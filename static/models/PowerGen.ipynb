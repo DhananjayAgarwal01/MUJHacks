{
  "cells": [
    {
      "cell_type": "code",
      "execution_count": 4,
      "metadata": {
        "colab": {
          "base_uri": "https://localhost:8080/"
        },
        "id": "xd-6LAgEumt8",
        "outputId": "7a2ddd94-1ade-4619-a541-4afd089e5d08"
      },
      "outputs": [
        {
          "ename": "ModuleNotFoundError",
          "evalue": "No module named 'pandas'",
          "output_type": "error",
          "traceback": [
            "\u001b[1;31m---------------------------------------------------------------------------\u001b[0m",
            "\u001b[1;31mModuleNotFoundError\u001b[0m                       Traceback (most recent call last)",
            "Cell \u001b[1;32mIn[4], line 1\u001b[0m\n\u001b[1;32m----> 1\u001b[0m \u001b[38;5;28;01mimport\u001b[39;00m \u001b[38;5;21;01mpandas\u001b[39;00m \u001b[38;5;28;01mas\u001b[39;00m \u001b[38;5;21;01mpd\u001b[39;00m\n\u001b[0;32m      2\u001b[0m \u001b[38;5;28;01mfrom\u001b[39;00m \u001b[38;5;21;01msklearn\u001b[39;00m\u001b[38;5;21;01m.\u001b[39;00m\u001b[38;5;21;01mensemble\u001b[39;00m \u001b[38;5;28;01mimport\u001b[39;00m RandomForestRegressor\n\u001b[0;32m      3\u001b[0m \u001b[38;5;28;01mfrom\u001b[39;00m \u001b[38;5;21;01msklearn\u001b[39;00m\u001b[38;5;21;01m.\u001b[39;00m\u001b[38;5;21;01mmodel_selection\u001b[39;00m \u001b[38;5;28;01mimport\u001b[39;00m train_test_split\n",
            "\u001b[1;31mModuleNotFoundError\u001b[0m: No module named 'pandas'"
          ]
        }
      ],
      "source": [
        "import pandas as pd\n",
        "from sklearn.ensemble import RandomForestRegressor\n",
        "from sklearn.model_selection import train_test_split\n",
        "from sklearn.metrics import mean_squared_error, r2_score\n",
        "from joblib import dump\n",
        "\n",
        "# Load the training data\n",
        "data = pd.read_csv(\"wind_power_gen_5years_training_data.csv\")\n",
        "\n",
        "# Separate features and target variable\n",
        "features = [\"AirTemp\", \"Pressure\", \"WindSpeed\"]  # Adjust as needed\n",
        "target = \"PowerGen\"\n",
        "\n",
        "X_train, X_test, y_train, y_test = train_test_split(data[features], data[target], test_size=0.2, random_state=42)\n",
        "\n",
        "# Create the Random Forest model\n",
        "model = RandomForestRegressor(n_estimators=100, random_state=42)\n",
        "\n",
        "# Train the model\n",
        "model.fit(X_train, y_train)\n",
        "\n",
        "# Make predictions on the testing data\n",
        "y_pred = model.predict(X_test)\n",
        "\n",
        "# Evaluate the model performance\n",
        "mse = mean_squared_error(y_test, y_pred)\n",
        "r2 = r2_score(y_test, y_pred)\n",
        "\n",
        "print(f\"Mean Squared Error: {mse:.2f}\")\n",
        "print(f\"R-squared: {r2:.2f}\")\n",
        "\n",
        "# Now you can use the trained model to predict power generation on the validation data\n",
        "validation_data = pd.read_csv(\"wind_power_gen_3months_validation_data.csv\")\n",
        "validation_predictions = model.predict(validation_data[features])\n",
        "\n",
        "# Store the final trained model\n",
        "model_filename = \"final_power_gen_model.joblib\"\n",
        "dump(model, model_filename)\n",
        "print(f\"Final trained model saved as '{model_filename}'\")\n"
      ]
    },
    {
      "cell_type": "code",
      "execution_count": null,
      "metadata": {
        "colab": {
          "base_uri": "https://localhost:8080/"
        },
        "id": "XTU_aYM6vFKj",
        "outputId": "3ddfdd42-69ba-43db-8f01-0cf34e8d61e7"
      },
      "outputs": [],
      "source": [
        "import pandas as pd\n",
        "import numpy as np\n",
        "\n",
        "# Define ranges for features (adjust as needed)\n",
        "temp_range = (10, 30) # Temperature range in Celsius\n",
        "pressure_range = (980, 1030) # Pressure range in hPa\n",
        "wind_speed_range = (2, 10) # Wind speed range in m/s\n",
        "\n",
        "# Generate random sample data (modify number of samples as desired)\n",
        "num_samples = 5\n",
        "new_data = np.random.rand(num_samples, 3) * (np.array([pressure_range[1], temp_range[1], wind_speed_range[1]]) -\n",
        "                                          np.array([pressure_range[0], temp_range[0], wind_speed_range[0]])) + np.array([pressure_range[0], temp_range[0], wind_speed_range[0]])\n",
        "\n",
        "# Convert new_data to a DataFrame with column names\n",
        "new_data_df = pd.DataFrame(new_data, columns=features)  # Replace 'features' with your actual feature names\n",
        "\n",
        "# Combine existing data (if available) and sample data\n",
        "if hasattr(data, 'data'):  # Check if existing_data is defined\n",
        "    new_data_with_samples = pd.concat([data, new_data_df], ignore_index=True)\n",
        "else:\n",
        "    new_data_with_samples = new_data_df  # Use only sample data if existing_data is not available\n",
        "\n",
        "# Make predictions\n",
        "predictions = model.predict(new_data_with_samples[features])\n",
        "\n",
        "# Combine predictions with new data\n",
        "new_data_with_samples[\"Predicted PowerGen\"] = predictions\n",
        "print(new_data_with_samples)\n",
        "\n",
        "# Create separate DataFrame for predictions (optional)\n",
        "predicted_data = pd.DataFrame({\"AirTemp\": new_data_with_samples[\"AirTemp\"],\n",
        "                               \"Pressure\": new_data_with_samples[\"Pressure\"],\n",
        "                               \"WindSpeed\": new_data_with_samples[\"WindSpeed\"],\n",
        "                               \"Predicted PowerGen\": predictions})\n",
        "print(predicted_data)\n"
      ]
    },
    {
      "cell_type": "code",
      "execution_count": null,
      "metadata": {
        "colab": {
          "base_uri": "https://localhost:8080/"
        },
        "id": "0a713M8SzzCH",
        "outputId": "9123c353-0f5f-4beb-d3a5-8ea80b4e9029"
      },
      "outputs": [],
      "source": [
        "import pandas as pd\n",
        "import numpy as np\n",
        "from joblib import load\n",
        "\n",
        "# Load the trained model and feature names\n",
        "model = load(\"/content/final_power_gen_model.joblib\")\n",
        "features = [\"AirTemp\", \"Pressure\", \"WindSpeed\"]  # Adjust as needed\n",
        "\n",
        "# Define ranges for features (adjust as needed)\n",
        "temp_range = (10, 30)  # Temperature range in Celsius\n",
        "pressure_range = (980, 1030)  # Pressure range in hPa\n",
        "wind_speed_range = (2, 10)  # Wind speed range in m/s\n",
        "\n",
        "# Function to get input for a single data point\n",
        "def get_input():\n",
        "    air_temp = float(input(\"Enter air temperature (Celsius): \"))\n",
        "    pressure = float(input(\"Enter pressure (hPa): \"))\n",
        "    wind_speed = float(input(\"Enter wind speed (m/s): \"))\n",
        "    return [air_temp, pressure, wind_speed]\n",
        "\n",
        "# Function to make predictions for a single data point\n",
        "def make_prediction(input_data):\n",
        "    input_data = np.array(input_data).reshape(1, -1)  # Reshape to 2D array\n",
        "    prediction = model.predict(input_data)\n",
        "    return prediction\n",
        "\n",
        "# Get input from the user\n",
        "input_data = get_input()\n",
        "\n",
        "# Check if the model is loaded\n",
        "if model is not None:\n",
        "    # Make prediction for the input data\n",
        "    prediction = make_prediction(input_data)\n",
        "    print(\"Predicted Power Generation (MW):\", prediction)\n",
        "else:\n",
        "    print(\"Error: Model is not loaded.\")\n"
      ]
    },
    {
      "cell_type": "code",
      "execution_count": null,
      "metadata": {
        "colab": {
          "base_uri": "https://localhost:8080/",
          "height": 1000
        },
        "id": "6cxbDarF1c06",
        "outputId": "6dc23c6a-0d99-4e6c-8763-66c7b63dc6ed"
      },
      "outputs": [],
      "source": [
        "import matplotlib.pyplot as plt\n",
        "# Plot predicted vs. true values\n",
        "plt.figure(figsize=(8, 6))\n",
        "plt.scatter(y_test, y_pred, color='blue')\n",
        "plt.plot([y_test.min(), y_test.max()], [y_test.min(), y_test.max()], linestyle='--', color='red')\n",
        "plt.xlabel('True Values')\n",
        "plt.ylabel('Predictions')\n",
        "plt.title('True vs. Predicted Power Generation')\n",
        "plt.show()\n",
        "\n",
        "# Plot distribution of power generation\n",
        "plt.figure(figsize=(8, 6))\n",
        "plt.hist(y_test, bins=30, alpha=0.5, color='blue', label='True Values')\n",
        "plt.hist(y_pred, bins=30, alpha=0.5, color='red', label='Predictions')\n",
        "plt.xlabel('Power Generation (MW)')\n",
        "plt.ylabel('Frequency')\n",
        "plt.title('Distribution of Power Generation')\n",
        "plt.legend()\n",
        "plt.show()"
      ]
    },
    {
      "cell_type": "code",
      "execution_count": null,
      "metadata": {
        "colab": {
          "base_uri": "https://localhost:8080/",
          "height": 521
        },
        "id": "_6LiSE5-8tqr",
        "outputId": "c5a7c8d3-80d4-4ba3-f862-d326e0735cc2"
      },
      "outputs": [],
      "source": [
        "# Plot distribution of power generation\n",
        "plt.figure(figsize=(8, 6))\n",
        "labels = ['True Values', 'Predictions']\n",
        "colors = ['blue', 'red']\n",
        "values = [len(y_test), len(y_pred)]\n",
        "plt.pie(values, labels=labels, colors=colors, autopct='%1.1f%%', startangle=140)\n",
        "plt.title('Distribution of True Values vs. Predictions')\n",
        "plt.axis('equal')\n",
        "plt.show()\n"
      ]
    }
  ],
  "metadata": {
    "colab": {
      "provenance": []
    },
    "kernelspec": {
      "display_name": "Python 3",
      "name": "python3"
    },
    "language_info": {
      "codemirror_mode": {
        "name": "ipython",
        "version": 3
      },
      "file_extension": ".py",
      "mimetype": "text/x-python",
      "name": "python",
      "nbconvert_exporter": "python",
      "pygments_lexer": "ipython3",
      "version": "3.12.5"
    }
  },
  "nbformat": 4,
  "nbformat_minor": 0
}
